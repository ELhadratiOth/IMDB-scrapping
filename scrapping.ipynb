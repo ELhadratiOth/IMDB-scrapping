{
 "cells": [
  {
   "cell_type": "code",
   "execution_count": 1,
   "id": "baac0180-9e92-4a39-87ec-538c773bacf8",
   "metadata": {},
   "outputs": [],
   "source": [
    "import pandas  as pd\n",
    "from selenium import webdriver\n",
    "from selenium.webdriver.common.by import By\n",
    "from selenium.webdriver.support.ui import WebDriverWait\n",
    "from selenium.webdriver.support import expected_conditions as EC\n",
    "\n",
    "\n",
    "\n",
    "import time \n",
    "link1 =\"https://www.imdb.com/chart/top/\"\n",
    "link2 = \"https://www.imdb.com/chart/toptv/\"\n",
    "link_in_use = \"\"\n",
    "driver = \"\"\n",
    "div_return = []\n",
    "ata_comming_soon = []"
   ]
  },
  {
   "cell_type": "code",
   "execution_count": 2,
   "id": "6cccee00-33d8-4881-9b41-6f9cf8294eb1",
   "metadata": {},
   "outputs": [],
   "source": [
    "\n",
    "def driver_settings():\n",
    "    global driver\n",
    "    driver = webdriver.Chrome()\n",
    "    driver.set_window_size(424, 768)\n",
    "    driver.get(link_in_use)\n",
    "def Changing_language_to_english():\n",
    "    input_elm = driver.find_element(By.ID , \"imdbHeader-navDrawerOpen\")\n",
    "    input_elm.click()\n",
    "    input_elm = driver.find_element(By.CLASS_NAME , \"ipc-btn__text\")\n",
    "    input_elm.click()\n",
    "    time.sleep(0.5)\n",
    "    input_elm = driver.find_element(By.ID , \"language-option-en-US\")\n",
    "    input_elm.click()\n",
    "\n",
    "\n",
    "\n",
    "def rank():\n",
    "    print(driver.get(driver.current_url))\n",
    "    main = driver.find_element(By.CSS_SELECTOR  , \"#__next > main > div > div.ipc-page-content-container.ipc-page-content-container--center > section > div > div.ipc-page-grid.ipc-page-grid--bias-left > div > ul\")\n",
    "    items = main.find_elements(By.CLASS_NAME , \"ipc-metadata-list-summary-item__c\")\n",
    "    listOfElement = []\n",
    "    for i in range(len(items)) :\n",
    "        list = items[i].text.split('\\n')\n",
    "        if link_in_use[27:32] == 'toptv' and len(list) == 7 :\n",
    "            list.insert(3 , \"Missing content rating \")\n",
    "        if link_in_use[27:31] == 'top/' and len(list) == 6 :\n",
    "            list.insert(3 , \"Missing limite rating \")\n",
    "        dataOfElem = {\n",
    "            \"name\" : list[0].split(\".\")[1].strip() ,\n",
    "            \"Date\" :list[1] ,\n",
    "            \"duration\" : list[2] ,\n",
    "            \"limite\" : list[3] ,\n",
    "            \"rating\"  : list[4]  ,\n",
    "            \"rating_votes\" :list[5][2:-1]   }\n",
    "\n",
    "        if link_in_use[27: 32] == 'toptv' :\n",
    "            dataOfElem[\"type\"] = list[-1]\n",
    "        listOfElement.append(dataOfElem)\n",
    "    return listOfElement\n",
    "\n"
   ]
  },
  {
   "cell_type": "code",
   "execution_count": 3,
   "id": "6dcd6e5d-19ea-4ec6-b4ea-5d7a8104646c",
   "metadata": {},
   "outputs": [],
   "source": [
    "def user_choice(str):\n",
    "    global link_in_use\n",
    "    global div_return\n",
    "    if str == 'film' :\n",
    "        link_in_use = link1\n",
    "        driver_settings()\n",
    "        Changing_language_to_english()\n",
    "        div_return = rank()\n",
    "        driver.close()\n",
    "    elif str == \"serie\" :\n",
    "        link_in_use = link2\n",
    "        driver_settings()\n",
    "        Changing_language_to_english()\n",
    "        div_return = rank()\n",
    "        driver.close()\n",
    "    else :\n",
    "        print(\"try to choose one of \\\"film\\\" or \\\"serie\\\" \")\n",
    "\n"
   ]
  },
  {
   "cell_type": "markdown",
   "id": "90aaa22a-f2f5-4a80-8b2b-ca138eab64f1",
   "metadata": {},
   "source": [
    "## TOP SHOWS/FILMS RANK BY iMDB "
   ]
  },
  {
   "cell_type": "code",
   "execution_count": 4,
   "id": "386de09c-c093-4b7a-b0bf-586e84634c71",
   "metadata": {},
   "outputs": [
    {
     "name": "stdin",
     "output_type": "stream",
     "text": [
      "Select a type to begin scrapping :  film\n"
     ]
    },
    {
     "ename": "WebDriverException",
     "evalue": "Message: unknown error: cannot determine loading status\nfrom target frame detached\n  (Session info: chrome=122.0.6261.129)\nStacktrace:\n\tGetHandleVerifier [0x00007FF771BBAD02+56930]\n\t(No symbol) [0x00007FF771B2F602]\n\t(No symbol) [0x00007FF7719E419D]\n\t(No symbol) [0x00007FF7719D1D68]\n\t(No symbol) [0x00007FF7719D0625]\n\t(No symbol) [0x00007FF7719D10AF]\n\t(No symbol) [0x00007FF7719DE753]\n\t(No symbol) [0x00007FF7719F009E]\n\t(No symbol) [0x00007FF7719F4E5A]\n\t(No symbol) [0x00007FF7719D1600]\n\t(No symbol) [0x00007FF7719EFC34]\n\t(No symbol) [0x00007FF771A68540]\n\t(No symbol) [0x00007FF771A4BA43]\n\t(No symbol) [0x00007FF771A1D438]\n\t(No symbol) [0x00007FF771A1E4D1]\n\tGetHandleVerifier [0x00007FF771F36F8D+3711213]\n\tGetHandleVerifier [0x00007FF771F904CD+4077101]\n\tGetHandleVerifier [0x00007FF771F8865F+4044735]\n\tGetHandleVerifier [0x00007FF771C59736+706710]\n\t(No symbol) [0x00007FF771B3B8DF]\n\t(No symbol) [0x00007FF771B36AC4]\n\t(No symbol) [0x00007FF771B36C1C]\n\t(No symbol) [0x00007FF771B268D4]\n\tBaseThreadInitThunk [0x00007FFA9E35257D+29]\n\tRtlUserThreadStart [0x00007FFA9E52AA58+40]\n",
     "output_type": "error",
     "traceback": [
      "\u001b[1;31m---------------------------------------------------------------------------\u001b[0m",
      "\u001b[1;31mWebDriverException\u001b[0m                        Traceback (most recent call last)",
      "Cell \u001b[1;32mIn[4], line 2\u001b[0m\n\u001b[0;32m      1\u001b[0m choice \u001b[38;5;241m=\u001b[39m \u001b[38;5;28minput\u001b[39m(\u001b[38;5;124m\"\u001b[39m\u001b[38;5;124mSelect a type to begin scrapping : \u001b[39m\u001b[38;5;124m\"\u001b[39m)\n\u001b[1;32m----> 2\u001b[0m user_choice(choice)\n",
      "Cell \u001b[1;32mIn[3], line 7\u001b[0m, in \u001b[0;36muser_choice\u001b[1;34m(str)\u001b[0m\n\u001b[0;32m      5\u001b[0m link_in_use \u001b[38;5;241m=\u001b[39m link1\n\u001b[0;32m      6\u001b[0m driver_settings()\n\u001b[1;32m----> 7\u001b[0m Changing_language_to_english()\n\u001b[0;32m      8\u001b[0m div_return \u001b[38;5;241m=\u001b[39m rank()\n\u001b[0;32m      9\u001b[0m driver\u001b[38;5;241m.\u001b[39mclose()\n",
      "Cell \u001b[1;32mIn[2], line 13\u001b[0m, in \u001b[0;36mChanging_language_to_english\u001b[1;34m()\u001b[0m\n\u001b[0;32m     11\u001b[0m time\u001b[38;5;241m.\u001b[39msleep(\u001b[38;5;241m0.5\u001b[39m)\n\u001b[0;32m     12\u001b[0m input_elm \u001b[38;5;241m=\u001b[39m driver\u001b[38;5;241m.\u001b[39mfind_element(By\u001b[38;5;241m.\u001b[39mID , \u001b[38;5;124m\"\u001b[39m\u001b[38;5;124mlanguage-option-en-US\u001b[39m\u001b[38;5;124m\"\u001b[39m)\n\u001b[1;32m---> 13\u001b[0m input_elm\u001b[38;5;241m.\u001b[39mclick()\n",
      "File \u001b[1;32mD:\\apps\\ANACONDA\\Lib\\site-packages\\selenium\\webdriver\\remote\\webelement.py:94\u001b[0m, in \u001b[0;36mWebElement.click\u001b[1;34m(self)\u001b[0m\n\u001b[0;32m     92\u001b[0m \u001b[38;5;28;01mdef\u001b[39;00m \u001b[38;5;21mclick\u001b[39m(\u001b[38;5;28mself\u001b[39m) \u001b[38;5;241m-\u001b[39m\u001b[38;5;241m>\u001b[39m \u001b[38;5;28;01mNone\u001b[39;00m:\n\u001b[0;32m     93\u001b[0m \u001b[38;5;250m    \u001b[39m\u001b[38;5;124;03m\"\"\"Clicks the element.\"\"\"\u001b[39;00m\n\u001b[1;32m---> 94\u001b[0m     \u001b[38;5;28mself\u001b[39m\u001b[38;5;241m.\u001b[39m_execute(Command\u001b[38;5;241m.\u001b[39mCLICK_ELEMENT)\n",
      "File \u001b[1;32mD:\\apps\\ANACONDA\\Lib\\site-packages\\selenium\\webdriver\\remote\\webelement.py:395\u001b[0m, in \u001b[0;36mWebElement._execute\u001b[1;34m(self, command, params)\u001b[0m\n\u001b[0;32m    393\u001b[0m     params \u001b[38;5;241m=\u001b[39m {}\n\u001b[0;32m    394\u001b[0m params[\u001b[38;5;124m\"\u001b[39m\u001b[38;5;124mid\u001b[39m\u001b[38;5;124m\"\u001b[39m] \u001b[38;5;241m=\u001b[39m \u001b[38;5;28mself\u001b[39m\u001b[38;5;241m.\u001b[39m_id\n\u001b[1;32m--> 395\u001b[0m \u001b[38;5;28;01mreturn\u001b[39;00m \u001b[38;5;28mself\u001b[39m\u001b[38;5;241m.\u001b[39m_parent\u001b[38;5;241m.\u001b[39mexecute(command, params)\n",
      "File \u001b[1;32mD:\\apps\\ANACONDA\\Lib\\site-packages\\selenium\\webdriver\\remote\\webdriver.py:347\u001b[0m, in \u001b[0;36mWebDriver.execute\u001b[1;34m(self, driver_command, params)\u001b[0m\n\u001b[0;32m    345\u001b[0m response \u001b[38;5;241m=\u001b[39m \u001b[38;5;28mself\u001b[39m\u001b[38;5;241m.\u001b[39mcommand_executor\u001b[38;5;241m.\u001b[39mexecute(driver_command, params)\n\u001b[0;32m    346\u001b[0m \u001b[38;5;28;01mif\u001b[39;00m response:\n\u001b[1;32m--> 347\u001b[0m     \u001b[38;5;28mself\u001b[39m\u001b[38;5;241m.\u001b[39merror_handler\u001b[38;5;241m.\u001b[39mcheck_response(response)\n\u001b[0;32m    348\u001b[0m     response[\u001b[38;5;124m\"\u001b[39m\u001b[38;5;124mvalue\u001b[39m\u001b[38;5;124m\"\u001b[39m] \u001b[38;5;241m=\u001b[39m \u001b[38;5;28mself\u001b[39m\u001b[38;5;241m.\u001b[39m_unwrap_value(response\u001b[38;5;241m.\u001b[39mget(\u001b[38;5;124m\"\u001b[39m\u001b[38;5;124mvalue\u001b[39m\u001b[38;5;124m\"\u001b[39m, \u001b[38;5;28;01mNone\u001b[39;00m))\n\u001b[0;32m    349\u001b[0m     \u001b[38;5;28;01mreturn\u001b[39;00m response\n",
      "File \u001b[1;32mD:\\apps\\ANACONDA\\Lib\\site-packages\\selenium\\webdriver\\remote\\errorhandler.py:229\u001b[0m, in \u001b[0;36mErrorHandler.check_response\u001b[1;34m(self, response)\u001b[0m\n\u001b[0;32m    227\u001b[0m         alert_text \u001b[38;5;241m=\u001b[39m value[\u001b[38;5;124m\"\u001b[39m\u001b[38;5;124malert\u001b[39m\u001b[38;5;124m\"\u001b[39m]\u001b[38;5;241m.\u001b[39mget(\u001b[38;5;124m\"\u001b[39m\u001b[38;5;124mtext\u001b[39m\u001b[38;5;124m\"\u001b[39m)\n\u001b[0;32m    228\u001b[0m     \u001b[38;5;28;01mraise\u001b[39;00m exception_class(message, screen, stacktrace, alert_text)  \u001b[38;5;66;03m# type: ignore[call-arg]  # mypy is not smart enough here\u001b[39;00m\n\u001b[1;32m--> 229\u001b[0m \u001b[38;5;28;01mraise\u001b[39;00m exception_class(message, screen, stacktrace)\n",
      "\u001b[1;31mWebDriverException\u001b[0m: Message: unknown error: cannot determine loading status\nfrom target frame detached\n  (Session info: chrome=122.0.6261.129)\nStacktrace:\n\tGetHandleVerifier [0x00007FF771BBAD02+56930]\n\t(No symbol) [0x00007FF771B2F602]\n\t(No symbol) [0x00007FF7719E419D]\n\t(No symbol) [0x00007FF7719D1D68]\n\t(No symbol) [0x00007FF7719D0625]\n\t(No symbol) [0x00007FF7719D10AF]\n\t(No symbol) [0x00007FF7719DE753]\n\t(No symbol) [0x00007FF7719F009E]\n\t(No symbol) [0x00007FF7719F4E5A]\n\t(No symbol) [0x00007FF7719D1600]\n\t(No symbol) [0x00007FF7719EFC34]\n\t(No symbol) [0x00007FF771A68540]\n\t(No symbol) [0x00007FF771A4BA43]\n\t(No symbol) [0x00007FF771A1D438]\n\t(No symbol) [0x00007FF771A1E4D1]\n\tGetHandleVerifier [0x00007FF771F36F8D+3711213]\n\tGetHandleVerifier [0x00007FF771F904CD+4077101]\n\tGetHandleVerifier [0x00007FF771F8865F+4044735]\n\tGetHandleVerifier [0x00007FF771C59736+706710]\n\t(No symbol) [0x00007FF771B3B8DF]\n\t(No symbol) [0x00007FF771B36AC4]\n\t(No symbol) [0x00007FF771B36C1C]\n\t(No symbol) [0x00007FF771B268D4]\n\tBaseThreadInitThunk [0x00007FFA9E35257D+29]\n\tRtlUserThreadStart [0x00007FFA9E52AA58+40]\n"
     ]
    }
   ],
   "source": [
    "choice = input(\"Select a type to begin scrapping : \")\n",
    "user_choice(choice)\n",
    "    "
   ]
  },
  {
   "cell_type": "code",
   "execution_count": null,
   "id": "34125bf6-d19d-4114-b1b7-a123b2f92eda",
   "metadata": {},
   "outputs": [],
   "source": [
    "df =pd.DataFrame(div_return)\n",
    "# df.set_index('name' ,  inplace=True)\n",
    "df"
   ]
  },
  {
   "cell_type": "markdown",
   "id": "26e66648-cdce-4909-bf57-e2b5733ee6bc",
   "metadata": {},
   "source": [
    "# BOX OFFICE\n",
    "\n",
    "\n"
   ]
  },
  {
   "cell_type": "code",
   "execution_count": null,
   "id": "2042d391-c99c-43c8-a2ea-99d0d31d6306",
   "metadata": {},
   "outputs": [],
   "source": [
    "link_in_use = \"https://www.imdb.com/chart/boxoffice\"\n",
    "def box_office():\n",
    "        main = driver.find_element(By.CSS_SELECTOR , \"div.ipc-page-content-container.ipc-page-content-container--center > section > div > div.ipc-page-grid.ipc-page-grid--bias-left > div > ul\")\n",
    "        items = main.find_elements(By.CLASS_NAME , \"ipc-metadata-list-summary-item__c\")\n",
    "        listOfElement = []\n",
    "        for i in range(len(items)) :\n",
    "            list = items[i].text.split('\\n')\n",
    "            dataOfElem = {\n",
    "                \"name\" : list[0].split(\".\")[1].strip() ,\n",
    "                \"Weekend Gross\" :list[1].split(\":\")[1].split(\"U\")[0] ,\n",
    "                \"Total Gross\" : list[2].split(\":\")[1].split(\"U\")[0] ,\n",
    "                \"Weeks Released\" : list[3].split(\":\")[1] ,\n",
    "                \"rating\"  : list[4]  ,\n",
    "                \"rating_votes\" :list[5][2:-1]\n",
    "                 }\n",
    "    \n",
    "           \n",
    "            listOfElement.append(dataOfElem)\n",
    "        return listOfElement\n",
    "        \n",
    "\n",
    "\n"
   ]
  },
  {
   "cell_type": "code",
   "execution_count": null,
   "id": "269d8192-13e7-4b37-9b49-add4e7f88599",
   "metadata": {},
   "outputs": [],
   "source": [
    "driver_settings()\n",
    "Changing_language_to_english()\n",
    "box_office = box_office()\n",
    "driver.close()"
   ]
  },
  {
   "cell_type": "code",
   "execution_count": null,
   "id": "776e5176-4ae6-4a4d-a977-add8cff35686",
   "metadata": {
    "scrolled": true
   },
   "outputs": [],
   "source": [
    "\n",
    "df_boxOffice =pd.DataFrame(box_office)\n",
    "# df.set_index('name' ,  inplace=True)\n",
    "df_boxOffice"
   ]
  },
  {
   "cell_type": "markdown",
   "id": "3510c658-3124-444e-a9d1-745460528560",
   "metadata": {},
   "source": [
    "## FILMS COMMING SOON "
   ]
  },
  {
   "cell_type": "code",
   "execution_count": null,
   "id": "0ecd0e0d-c8c2-471f-b8ae-e6a10a25a9b3",
   "metadata": {},
   "outputs": [],
   "source": [
    "link_in_use = \"https://www.imdb.com/trailers/\"\n",
    "\n",
    "def comming_soon():\n",
    "        global data_comming_soon\n",
    "        main = driver.find_element(By.XPATH , \"//section\")\n",
    "        time.sleep(0.5)\n",
    "        items = main.find_elements(By.XPATH , \"//section/div/div[contains(@class, 'ipc-poster-card ipc-poster-card--baseAlt ipc-poster-card--dynamic-width ipc-sub-grid-item ipc-sub-grid-item--span-2') and contains(@role , 'group')]\") #i don't know how but it works \"if it works don't touch it \"\n",
    "        listOfElement = []\n",
    "        for item in items :\n",
    "            it = item.text.split('\\n')\n",
    "            if len(it) == 3 :\n",
    "                it.append(\"Not mentionned\")\n",
    "            dic_come_soon={\n",
    "                \"nom\" : it[2],\n",
    "                 \"release date\" : it[3]               \n",
    "             }            \n",
    "            listOfElement.append(dic_come_soon)\n",
    "\n",
    "            \n",
    "        # # trailer link\n",
    "        fetch_url = main.find_elements(By.XPATH , \"//section//a[@aria-label]\") #i don't know how but it works \"if it works don't touch it \"\n",
    "        urls = [] \n",
    "        for i ,url in enumerate(fetch_url):\n",
    "            if i%2 == 0 :\n",
    "                link_url = url.get_attribute(\"href\")\n",
    "                urls.append(link_url) \n",
    "        for i in range(len(urls)) :\n",
    "            listOfElement[i][\"Link_trailer\"] = urls[i]\n",
    "\n",
    "        data_comming_soon = listOfElement\n",
    "\n",
    "        \n",
    "\n",
    "\n",
    "\n",
    "            \n",
    "             \n",
    "            \n",
    "                \n"
   ]
  },
  {
   "cell_type": "code",
   "execution_count": null,
   "id": "badb36ce-e675-4317-92f7-f6c4123b65ab",
   "metadata": {},
   "outputs": [],
   "source": [
    "driver_settings()\n",
    "Changing_language_to_english()\n",
    "comming_soon()\n",
    "driver.close()"
   ]
  },
  {
   "cell_type": "code",
   "execution_count": null,
   "id": "4b6fde48-0a5c-448f-abf0-675a19de20e3",
   "metadata": {},
   "outputs": [],
   "source": [
    "df_comming_soon  = pd.DataFrame(data_comming_soon)\n",
    "pd.set_option('display.max_colwidth', None) # to dispaly all columns with an apropriete format\n",
    "\n",
    "df_comming_soon.head()"
   ]
  },
  {
   "cell_type": "markdown",
   "id": "73d74bb6-9c8f-4db6-8058-5faf7de571ad",
   "metadata": {},
   "source": [
    "## MORE OPTION "
   ]
  },
  {
   "cell_type": "code",
   "execution_count": 8,
   "id": "c214045b-1709-4033-a552-3306c6d155fa",
   "metadata": {},
   "outputs": [],
   "source": [
    "link_in_use = \"https://www.imdb.com/chart/toptv/\"\n",
    "\n",
    "\n",
    "def setting_options(date_min , date_max):\n",
    "    if date_min != \"\" or date_max  != \"\" :\n",
    "        button = driver.find_element(By.CSS_SELECTOR, \"#__next > main > div > div.ipc-page-content-container.ipc-page-content-container--center > section > div > div.ipc-page-grid.ipc-page-grid--bias-left > div > div.ipc-chip-list--base.ipc-chip-list.ipc-chip-list--nowrap.sc-ccf35d57-1.cTYFpP > div.ipc-chip-list__scroller\")\n",
    "        button.click()\n",
    "        bar =driver.find_element(By.XPATH, \"/html/body/div[4]/div[2]/div/div[2]/div/div/div[2]/div[2]\")\n",
    "        time.sleep(0.5)\n",
    "        if date_min != \"\" :\n",
    "            input_Date_min = bar.find_element(By.XPATH, \"//div[2]/div[1]/div/div/div/input\")\n",
    "            input_Date_min.clear()\n",
    "            input_Date_min.send_keys(date_min)\n",
    "        if date_max  != \"\" :\n",
    "            input_Date_max = bar.find_element(By.XPATH, \"//div[2]/div[2]/div/div/div/input\")\n",
    "            input_Date_max.clear()\n",
    "            input_Date_max.send_keys(date_max)\n",
    "        X_button = driver.find_element(By.XPATH, \"/html/body/div[4]/div[2]/div/div[1]/button\").click()\n",
    "        # link_in_use = \"https://www.imdb.com/chart/top/?year=2022%2C2024\"\n",
    "        time.sleep(1)\n",
    "        print(driver.current_url)\n",
    "    \n",
    "    driver.get(driver.current_url)\n"
   ]
  },
  {
   "cell_type": "code",
   "execution_count": 24,
   "id": "52ecfa96-272f-4379-9ba6-adcc53250611",
   "metadata": {},
   "outputs": [
    {
     "ename": "KeyboardInterrupt",
     "evalue": "Interrupted by user",
     "output_type": "error",
     "traceback": [
      "\u001b[1;31m---------------------------------------------------------------------------\u001b[0m",
      "\u001b[1;31mKeyboardInterrupt\u001b[0m                         Traceback (most recent call last)",
      "Cell \u001b[1;32mIn[24], line 1\u001b[0m\n\u001b[1;32m----> 1\u001b[0m option \u001b[38;5;241m=\u001b[39m \u001b[38;5;28minput\u001b[39m(\u001b[38;5;124m\"\u001b[39m\u001b[38;5;124mveuillez choisir une range de recherche (1/0) : \u001b[39m\u001b[38;5;124m\"\u001b[39m)\n\u001b[0;32m      2\u001b[0m date_min \u001b[38;5;241m=\u001b[39m \u001b[38;5;124m\"\u001b[39m\u001b[38;5;124m\"\u001b[39m\n\u001b[0;32m      3\u001b[0m date_max \u001b[38;5;241m=\u001b[39m \u001b[38;5;124m\"\u001b[39m\u001b[38;5;124m\"\u001b[39m\n",
      "File \u001b[1;32mD:\\apps\\ANACONDA\\Lib\\site-packages\\ipykernel\\kernelbase.py:1262\u001b[0m, in \u001b[0;36mKernel.raw_input\u001b[1;34m(self, prompt)\u001b[0m\n\u001b[0;32m   1260\u001b[0m     msg \u001b[38;5;241m=\u001b[39m \u001b[38;5;124m\"\u001b[39m\u001b[38;5;124mraw_input was called, but this frontend does not support input requests.\u001b[39m\u001b[38;5;124m\"\u001b[39m\n\u001b[0;32m   1261\u001b[0m     \u001b[38;5;28;01mraise\u001b[39;00m StdinNotImplementedError(msg)\n\u001b[1;32m-> 1262\u001b[0m \u001b[38;5;28;01mreturn\u001b[39;00m \u001b[38;5;28mself\u001b[39m\u001b[38;5;241m.\u001b[39m_input_request(\n\u001b[0;32m   1263\u001b[0m     \u001b[38;5;28mstr\u001b[39m(prompt),\n\u001b[0;32m   1264\u001b[0m     \u001b[38;5;28mself\u001b[39m\u001b[38;5;241m.\u001b[39m_parent_ident[\u001b[38;5;124m\"\u001b[39m\u001b[38;5;124mshell\u001b[39m\u001b[38;5;124m\"\u001b[39m],\n\u001b[0;32m   1265\u001b[0m     \u001b[38;5;28mself\u001b[39m\u001b[38;5;241m.\u001b[39mget_parent(\u001b[38;5;124m\"\u001b[39m\u001b[38;5;124mshell\u001b[39m\u001b[38;5;124m\"\u001b[39m),\n\u001b[0;32m   1266\u001b[0m     password\u001b[38;5;241m=\u001b[39m\u001b[38;5;28;01mFalse\u001b[39;00m,\n\u001b[0;32m   1267\u001b[0m )\n",
      "File \u001b[1;32mD:\\apps\\ANACONDA\\Lib\\site-packages\\ipykernel\\kernelbase.py:1305\u001b[0m, in \u001b[0;36mKernel._input_request\u001b[1;34m(self, prompt, ident, parent, password)\u001b[0m\n\u001b[0;32m   1302\u001b[0m \u001b[38;5;28;01mexcept\u001b[39;00m \u001b[38;5;167;01mKeyboardInterrupt\u001b[39;00m:\n\u001b[0;32m   1303\u001b[0m     \u001b[38;5;66;03m# re-raise KeyboardInterrupt, to truncate traceback\u001b[39;00m\n\u001b[0;32m   1304\u001b[0m     msg \u001b[38;5;241m=\u001b[39m \u001b[38;5;124m\"\u001b[39m\u001b[38;5;124mInterrupted by user\u001b[39m\u001b[38;5;124m\"\u001b[39m\n\u001b[1;32m-> 1305\u001b[0m     \u001b[38;5;28;01mraise\u001b[39;00m \u001b[38;5;167;01mKeyboardInterrupt\u001b[39;00m(msg) \u001b[38;5;28;01mfrom\u001b[39;00m \u001b[38;5;28;01mNone\u001b[39;00m\n\u001b[0;32m   1306\u001b[0m \u001b[38;5;28;01mexcept\u001b[39;00m \u001b[38;5;167;01mException\u001b[39;00m:\n\u001b[0;32m   1307\u001b[0m     \u001b[38;5;28mself\u001b[39m\u001b[38;5;241m.\u001b[39mlog\u001b[38;5;241m.\u001b[39mwarning(\u001b[38;5;124m\"\u001b[39m\u001b[38;5;124mInvalid Message:\u001b[39m\u001b[38;5;124m\"\u001b[39m, exc_info\u001b[38;5;241m=\u001b[39m\u001b[38;5;28;01mTrue\u001b[39;00m)\n",
      "\u001b[1;31mKeyboardInterrupt\u001b[0m: Interrupted by user"
     ]
    }
   ],
   "source": [
    "option = input(\"veuillez choisir une range de recherche (1/0) : \")\n",
    "date_min = \"\"\n",
    "date_max = \"\"\n",
    "if option == \"1\" :\n",
    "    date_min =input(\"Date min : \")\n",
    "    date_max =input(\"Date max : \")\n",
    "else :\n",
    "    print(\"okay\")\n"
   ]
  },
  {
   "cell_type": "code",
   "execution_count": 21,
   "id": "f5f501c1-03bb-41bd-8365-a79da0b5a3bd",
   "metadata": {},
   "outputs": [
    {
     "ename": "ElementNotInteractableException",
     "evalue": "Message: element not interactable\n  (Session info: chrome=122.0.6261.129)\nStacktrace:\n\tGetHandleVerifier [0x00007FF7E4CAAD02+56930]\n\t(No symbol) [0x00007FF7E4C1F602]\n\t(No symbol) [0x00007FF7E4AD419D]\n\t(No symbol) [0x00007FF7E4B1109C]\n\t(No symbol) [0x00007FF7E4B3BC9A]\n\t(No symbol) [0x00007FF7E4B0F09A]\n\t(No symbol) [0x00007FF7E4B3BEB0]\n\t(No symbol) [0x00007FF7E4B581E2]\n\t(No symbol) [0x00007FF7E4B3BA43]\n\t(No symbol) [0x00007FF7E4B0D438]\n\t(No symbol) [0x00007FF7E4B0E4D1]\n\tGetHandleVerifier [0x00007FF7E5026F8D+3711213]\n\tGetHandleVerifier [0x00007FF7E50804CD+4077101]\n\tGetHandleVerifier [0x00007FF7E507865F+4044735]\n\tGetHandleVerifier [0x00007FF7E4D49736+706710]\n\t(No symbol) [0x00007FF7E4C2B8DF]\n\t(No symbol) [0x00007FF7E4C26AC4]\n\t(No symbol) [0x00007FF7E4C26C1C]\n\t(No symbol) [0x00007FF7E4C168D4]\n\tBaseThreadInitThunk [0x00007FF8A053257D+29]\n\tRtlUserThreadStart [0x00007FF8A17CAA58+40]\n",
     "output_type": "error",
     "traceback": [
      "\u001b[1;31m---------------------------------------------------------------------------\u001b[0m",
      "\u001b[1;31mElementNotInteractableException\u001b[0m           Traceback (most recent call last)",
      "Cell \u001b[1;32mIn[21], line 3\u001b[0m\n\u001b[0;32m      1\u001b[0m driver_settings()\n\u001b[0;32m      2\u001b[0m \u001b[38;5;66;03m# Changing_language_to_english()\u001b[39;00m\n\u001b[1;32m----> 3\u001b[0m setting_options(date_min,date_max)\n\u001b[0;32m      4\u001b[0m div_return\u001b[38;5;241m=\u001b[39mrank()\n",
      "Cell \u001b[1;32mIn[8], line 12\u001b[0m, in \u001b[0;36msetting_options\u001b[1;34m(date_min, date_max)\u001b[0m\n\u001b[0;32m     10\u001b[0m \u001b[38;5;28;01mif\u001b[39;00m date_min \u001b[38;5;241m!=\u001b[39m \u001b[38;5;124m\"\u001b[39m\u001b[38;5;124m\"\u001b[39m :\n\u001b[0;32m     11\u001b[0m     input_Date_min \u001b[38;5;241m=\u001b[39m bar\u001b[38;5;241m.\u001b[39mfind_element(By\u001b[38;5;241m.\u001b[39mXPATH, \u001b[38;5;124m\"\u001b[39m\u001b[38;5;124m//div[2]/div[1]/div/div/div/input\u001b[39m\u001b[38;5;124m\"\u001b[39m)\n\u001b[1;32m---> 12\u001b[0m     input_Date_min\u001b[38;5;241m.\u001b[39mclear()\n\u001b[0;32m     13\u001b[0m     input_Date_min\u001b[38;5;241m.\u001b[39msend_keys(date_min)\n\u001b[0;32m     14\u001b[0m \u001b[38;5;28;01mif\u001b[39;00m date_max  \u001b[38;5;241m!=\u001b[39m \u001b[38;5;124m\"\u001b[39m\u001b[38;5;124m\"\u001b[39m :\n",
      "File \u001b[1;32mD:\\apps\\ANACONDA\\Lib\\site-packages\\selenium\\webdriver\\remote\\webelement.py:117\u001b[0m, in \u001b[0;36mWebElement.clear\u001b[1;34m(self)\u001b[0m\n\u001b[0;32m    115\u001b[0m \u001b[38;5;28;01mdef\u001b[39;00m \u001b[38;5;21mclear\u001b[39m(\u001b[38;5;28mself\u001b[39m) \u001b[38;5;241m-\u001b[39m\u001b[38;5;241m>\u001b[39m \u001b[38;5;28;01mNone\u001b[39;00m:\n\u001b[0;32m    116\u001b[0m \u001b[38;5;250m    \u001b[39m\u001b[38;5;124;03m\"\"\"Clears the text if it's a text entry element.\"\"\"\u001b[39;00m\n\u001b[1;32m--> 117\u001b[0m     \u001b[38;5;28mself\u001b[39m\u001b[38;5;241m.\u001b[39m_execute(Command\u001b[38;5;241m.\u001b[39mCLEAR_ELEMENT)\n",
      "File \u001b[1;32mD:\\apps\\ANACONDA\\Lib\\site-packages\\selenium\\webdriver\\remote\\webelement.py:395\u001b[0m, in \u001b[0;36mWebElement._execute\u001b[1;34m(self, command, params)\u001b[0m\n\u001b[0;32m    393\u001b[0m     params \u001b[38;5;241m=\u001b[39m {}\n\u001b[0;32m    394\u001b[0m params[\u001b[38;5;124m\"\u001b[39m\u001b[38;5;124mid\u001b[39m\u001b[38;5;124m\"\u001b[39m] \u001b[38;5;241m=\u001b[39m \u001b[38;5;28mself\u001b[39m\u001b[38;5;241m.\u001b[39m_id\n\u001b[1;32m--> 395\u001b[0m \u001b[38;5;28;01mreturn\u001b[39;00m \u001b[38;5;28mself\u001b[39m\u001b[38;5;241m.\u001b[39m_parent\u001b[38;5;241m.\u001b[39mexecute(command, params)\n",
      "File \u001b[1;32mD:\\apps\\ANACONDA\\Lib\\site-packages\\selenium\\webdriver\\remote\\webdriver.py:347\u001b[0m, in \u001b[0;36mWebDriver.execute\u001b[1;34m(self, driver_command, params)\u001b[0m\n\u001b[0;32m    345\u001b[0m response \u001b[38;5;241m=\u001b[39m \u001b[38;5;28mself\u001b[39m\u001b[38;5;241m.\u001b[39mcommand_executor\u001b[38;5;241m.\u001b[39mexecute(driver_command, params)\n\u001b[0;32m    346\u001b[0m \u001b[38;5;28;01mif\u001b[39;00m response:\n\u001b[1;32m--> 347\u001b[0m     \u001b[38;5;28mself\u001b[39m\u001b[38;5;241m.\u001b[39merror_handler\u001b[38;5;241m.\u001b[39mcheck_response(response)\n\u001b[0;32m    348\u001b[0m     response[\u001b[38;5;124m\"\u001b[39m\u001b[38;5;124mvalue\u001b[39m\u001b[38;5;124m\"\u001b[39m] \u001b[38;5;241m=\u001b[39m \u001b[38;5;28mself\u001b[39m\u001b[38;5;241m.\u001b[39m_unwrap_value(response\u001b[38;5;241m.\u001b[39mget(\u001b[38;5;124m\"\u001b[39m\u001b[38;5;124mvalue\u001b[39m\u001b[38;5;124m\"\u001b[39m, \u001b[38;5;28;01mNone\u001b[39;00m))\n\u001b[0;32m    349\u001b[0m     \u001b[38;5;28;01mreturn\u001b[39;00m response\n",
      "File \u001b[1;32mD:\\apps\\ANACONDA\\Lib\\site-packages\\selenium\\webdriver\\remote\\errorhandler.py:229\u001b[0m, in \u001b[0;36mErrorHandler.check_response\u001b[1;34m(self, response)\u001b[0m\n\u001b[0;32m    227\u001b[0m         alert_text \u001b[38;5;241m=\u001b[39m value[\u001b[38;5;124m\"\u001b[39m\u001b[38;5;124malert\u001b[39m\u001b[38;5;124m\"\u001b[39m]\u001b[38;5;241m.\u001b[39mget(\u001b[38;5;124m\"\u001b[39m\u001b[38;5;124mtext\u001b[39m\u001b[38;5;124m\"\u001b[39m)\n\u001b[0;32m    228\u001b[0m     \u001b[38;5;28;01mraise\u001b[39;00m exception_class(message, screen, stacktrace, alert_text)  \u001b[38;5;66;03m# type: ignore[call-arg]  # mypy is not smart enough here\u001b[39;00m\n\u001b[1;32m--> 229\u001b[0m \u001b[38;5;28;01mraise\u001b[39;00m exception_class(message, screen, stacktrace)\n",
      "\u001b[1;31mElementNotInteractableException\u001b[0m: Message: element not interactable\n  (Session info: chrome=122.0.6261.129)\nStacktrace:\n\tGetHandleVerifier [0x00007FF7E4CAAD02+56930]\n\t(No symbol) [0x00007FF7E4C1F602]\n\t(No symbol) [0x00007FF7E4AD419D]\n\t(No symbol) [0x00007FF7E4B1109C]\n\t(No symbol) [0x00007FF7E4B3BC9A]\n\t(No symbol) [0x00007FF7E4B0F09A]\n\t(No symbol) [0x00007FF7E4B3BEB0]\n\t(No symbol) [0x00007FF7E4B581E2]\n\t(No symbol) [0x00007FF7E4B3BA43]\n\t(No symbol) [0x00007FF7E4B0D438]\n\t(No symbol) [0x00007FF7E4B0E4D1]\n\tGetHandleVerifier [0x00007FF7E5026F8D+3711213]\n\tGetHandleVerifier [0x00007FF7E50804CD+4077101]\n\tGetHandleVerifier [0x00007FF7E507865F+4044735]\n\tGetHandleVerifier [0x00007FF7E4D49736+706710]\n\t(No symbol) [0x00007FF7E4C2B8DF]\n\t(No symbol) [0x00007FF7E4C26AC4]\n\t(No symbol) [0x00007FF7E4C26C1C]\n\t(No symbol) [0x00007FF7E4C168D4]\n\tBaseThreadInitThunk [0x00007FF8A053257D+29]\n\tRtlUserThreadStart [0x00007FF8A17CAA58+40]\n"
     ]
    }
   ],
   "source": [
    "driver_settings()\n",
    "# Changing_language_to_english()\n",
    "setting_options(date_min,date_max)\n",
    "div_return=rank()\n"
   ]
  },
  {
   "cell_type": "code",
   "execution_count": 13,
   "id": "89cbae65-7b7f-48d7-9c6f-e7c4183116b3",
   "metadata": {},
   "outputs": [
    {
     "name": "stdout",
     "output_type": "stream",
     "text": [
      "(250, 7)\n"
     ]
    },
    {
     "data": {
      "text/html": [
       "<div>\n",
       "<style scoped>\n",
       "    .dataframe tbody tr th:only-of-type {\n",
       "        vertical-align: middle;\n",
       "    }\n",
       "\n",
       "    .dataframe tbody tr th {\n",
       "        vertical-align: top;\n",
       "    }\n",
       "\n",
       "    .dataframe thead th {\n",
       "        text-align: right;\n",
       "    }\n",
       "</style>\n",
       "<table border=\"1\" class=\"dataframe\">\n",
       "  <thead>\n",
       "    <tr style=\"text-align: right;\">\n",
       "      <th></th>\n",
       "      <th>name</th>\n",
       "      <th>Date</th>\n",
       "      <th>duration</th>\n",
       "      <th>limite</th>\n",
       "      <th>rating</th>\n",
       "      <th>rating_votes</th>\n",
       "      <th>type</th>\n",
       "    </tr>\n",
       "  </thead>\n",
       "  <tbody>\n",
       "    <tr>\n",
       "      <th>0</th>\n",
       "      <td>Breaking Bad</td>\n",
       "      <td>2008–2013</td>\n",
       "      <td>62 ép.</td>\n",
       "      <td>Tous publics</td>\n",
       "      <td>9,5</td>\n",
       "      <td>2,1 M</td>\n",
       "      <td>Série télévisée</td>\n",
       "    </tr>\n",
       "    <tr>\n",
       "      <th>1</th>\n",
       "      <td>Planet Earth II</td>\n",
       "      <td>2016</td>\n",
       "      <td>6 ép.</td>\n",
       "      <td>10</td>\n",
       "      <td>9,5</td>\n",
       "      <td>157 k</td>\n",
       "      <td>Mini-série télévisée</td>\n",
       "    </tr>\n",
       "    <tr>\n",
       "      <th>2</th>\n",
       "      <td>Planète Terre</td>\n",
       "      <td>2006</td>\n",
       "      <td>11 ép.</td>\n",
       "      <td>Tous publics</td>\n",
       "      <td>9,4</td>\n",
       "      <td>219 k</td>\n",
       "      <td>Mini-série télévisée</td>\n",
       "    </tr>\n",
       "    <tr>\n",
       "      <th>3</th>\n",
       "      <td>Frères d'armes</td>\n",
       "      <td>2001</td>\n",
       "      <td>10 ép.</td>\n",
       "      <td>Tous publics</td>\n",
       "      <td>9,4</td>\n",
       "      <td>522 k</td>\n",
       "      <td>Mini-série télévisée</td>\n",
       "    </tr>\n",
       "    <tr>\n",
       "      <th>4</th>\n",
       "      <td>Chernobyl</td>\n",
       "      <td>2019</td>\n",
       "      <td>5 ép.</td>\n",
       "      <td>12</td>\n",
       "      <td>9,3</td>\n",
       "      <td>856 k</td>\n",
       "      <td>Mini-série télévisée</td>\n",
       "    </tr>\n",
       "    <tr>\n",
       "      <th>...</th>\n",
       "      <td>...</td>\n",
       "      <td>...</td>\n",
       "      <td>...</td>\n",
       "      <td>...</td>\n",
       "      <td>...</td>\n",
       "      <td>...</td>\n",
       "      <td>...</td>\n",
       "    </tr>\n",
       "    <tr>\n",
       "      <th>245</th>\n",
       "      <td>Gintama</td>\n",
       "      <td>2005–2021</td>\n",
       "      <td>375 ép.</td>\n",
       "      <td>Tous publics</td>\n",
       "      <td>8,7</td>\n",
       "      <td>15 k</td>\n",
       "      <td>Série télévisée</td>\n",
       "    </tr>\n",
       "    <tr>\n",
       "      <th>246</th>\n",
       "      <td>Your Lie in April</td>\n",
       "      <td>2014–2018</td>\n",
       "      <td>25 ép.</td>\n",
       "      <td>Tous publics</td>\n",
       "      <td>8,5</td>\n",
       "      <td>37 k</td>\n",
       "      <td>Série télévisée</td>\n",
       "    </tr>\n",
       "    <tr>\n",
       "      <th>247</th>\n",
       "      <td>Foyle's War</td>\n",
       "      <td>2002–2015</td>\n",
       "      <td>28 ép.</td>\n",
       "      <td>TV-14</td>\n",
       "      <td>8,6</td>\n",
       "      <td>18 k</td>\n",
       "      <td>Série télévisée</td>\n",
       "    </tr>\n",
       "    <tr>\n",
       "      <th>248</th>\n",
       "      <td>Alfred Hitchcock présente</td>\n",
       "      <td>1955–1962</td>\n",
       "      <td>268 ép.</td>\n",
       "      <td>Tous publics</td>\n",
       "      <td>8,5</td>\n",
       "      <td>19 k</td>\n",
       "      <td>Série télévisée</td>\n",
       "    </tr>\n",
       "    <tr>\n",
       "      <th>249</th>\n",
       "      <td>Sapne Vs Everyone</td>\n",
       "      <td>2023–</td>\n",
       "      <td>5 ép.</td>\n",
       "      <td>Missing content rating</td>\n",
       "      <td>9,5</td>\n",
       "      <td>61 k</td>\n",
       "      <td>Série télévisée</td>\n",
       "    </tr>\n",
       "  </tbody>\n",
       "</table>\n",
       "<p>250 rows × 7 columns</p>\n",
       "</div>"
      ],
      "text/plain": [
       "                          name       Date duration                   limite  \\\n",
       "0                 Breaking Bad  2008–2013   62 ép.             Tous publics   \n",
       "1              Planet Earth II       2016    6 ép.                       10   \n",
       "2                Planète Terre       2006   11 ép.             Tous publics   \n",
       "3               Frères d'armes       2001   10 ép.             Tous publics   \n",
       "4                    Chernobyl       2019    5 ép.                       12   \n",
       "..                         ...        ...      ...                      ...   \n",
       "245                    Gintama  2005–2021  375 ép.             Tous publics   \n",
       "246          Your Lie in April  2014–2018   25 ép.             Tous publics   \n",
       "247                Foyle's War  2002–2015   28 ép.                    TV-14   \n",
       "248  Alfred Hitchcock présente  1955–1962  268 ép.             Tous publics   \n",
       "249          Sapne Vs Everyone      2023–    5 ép.  Missing content rating    \n",
       "\n",
       "    rating rating_votes                  type  \n",
       "0      9,5        2,1 M       Série télévisée  \n",
       "1      9,5        157 k  Mini-série télévisée  \n",
       "2      9,4        219 k  Mini-série télévisée  \n",
       "3      9,4        522 k  Mini-série télévisée  \n",
       "4      9,3        856 k  Mini-série télévisée  \n",
       "..     ...          ...                   ...  \n",
       "245    8,7         15 k       Série télévisée  \n",
       "246    8,5         37 k       Série télévisée  \n",
       "247    8,6         18 k       Série télévisée  \n",
       "248    8,5         19 k       Série télévisée  \n",
       "249    9,5         61 k       Série télévisée  \n",
       "\n",
       "[250 rows x 7 columns]"
      ]
     },
     "execution_count": 13,
     "metadata": {},
     "output_type": "execute_result"
    }
   ],
   "source": [
    "df =pd.DataFrame(div_return)\n",
    "# df.set_index('name' ,  inplace=True)\n",
    "\n",
    "print(df.shape)\n",
    "df\n",
    "\n"
   ]
  },
  {
   "cell_type": "code",
   "execution_count": null,
   "id": "fbf37809-e2f6-41e4-b27f-bb78e78860f7",
   "metadata": {},
   "outputs": [],
   "source": []
  }
 ],
 "metadata": {
  "kernelspec": {
   "display_name": "Python 3 (ipykernel)",
   "language": "python",
   "name": "python3"
  },
  "language_info": {
   "codemirror_mode": {
    "name": "ipython",
    "version": 3
   },
   "file_extension": ".py",
   "mimetype": "text/x-python",
   "name": "python",
   "nbconvert_exporter": "python",
   "pygments_lexer": "ipython3",
   "version": "3.11.7"
  }
 },
 "nbformat": 4,
 "nbformat_minor": 5
}
